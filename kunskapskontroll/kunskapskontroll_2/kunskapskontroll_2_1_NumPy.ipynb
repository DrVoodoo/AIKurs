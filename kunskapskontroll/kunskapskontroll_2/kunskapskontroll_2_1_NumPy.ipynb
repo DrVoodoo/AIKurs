{
 "cells": [
  {
   "cell_type": "markdown",
   "id": "dacf74e6",
   "metadata": {},
   "source": [
    "# NumPy"
   ]
  },
  {
   "cell_type": "markdown",
   "id": "01b2bf34",
   "metadata": {},
   "source": [
    "Read the links: https://numpy.org/doc/stable/user/quickstart.html  and https://numpy.org/doc/stable/user/basics.broadcasting.html  before solving the exercises. "
   ]
  },
  {
   "cell_type": "code",
   "execution_count": 3,
   "id": "1f79e4a6",
   "metadata": {},
   "outputs": [],
   "source": [
    "import numpy as np"
   ]
  },
  {
   "cell_type": "markdown",
   "id": "7dae6889",
   "metadata": {},
   "source": [
    "### Print out the dimension (number of axes), shape, size and the datatype of the matrix A."
   ]
  },
  {
   "cell_type": "code",
   "execution_count": 4,
   "id": "7b3678cd",
   "metadata": {},
   "outputs": [],
   "source": [
    "A = np.arange(1, 16).reshape(3,5)"
   ]
  },
  {
   "cell_type": "code",
   "execution_count": 5,
   "id": "31d39235",
   "metadata": {},
   "outputs": [
    {
     "name": "stdout",
     "output_type": "stream",
     "text": [
      "axes=2\n",
      "shape=(3, 5)\n",
      "size=15\n",
      "datatype=int32\n"
     ]
    }
   ],
   "source": [
    "print(f'axes={A.ndim}')\n",
    "print(f'shape={A.shape}')\n",
    "print(f'size={A.size}')\n",
    "print(f'datatype={A.dtype}')"
   ]
  },
  {
   "cell_type": "markdown",
   "id": "e56d2a96",
   "metadata": {},
   "source": [
    "### Do the following computations on the matrices B and C: \n",
    "* Elementwise subtraction. \n",
    "* Elementwise multiplication. \n",
    "* Matrix multiplication (by default you should use the @ operator)."
   ]
  },
  {
   "cell_type": "code",
   "execution_count": 6,
   "id": "a7053fbb",
   "metadata": {},
   "outputs": [
    {
     "name": "stdout",
     "output_type": "stream",
     "text": [
      "[[1 2 3]\n",
      " [4 5 6]\n",
      " [7 8 9]]\n",
      "\n",
      "[[2. 2. 2.]\n",
      " [2. 2. 2.]\n",
      " [2. 2. 2.]]\n"
     ]
    }
   ],
   "source": [
    "B = np.arange(1, 10).reshape(3, 3)\n",
    "C = np.ones((3, 3))*2\n",
    "\n",
    "print(B)\n",
    "print()\n",
    "print(C)"
   ]
  },
  {
   "cell_type": "code",
   "execution_count": 7,
   "id": "3cd794ae",
   "metadata": {},
   "outputs": [
    {
     "name": "stdout",
     "output_type": "stream",
     "text": [
      "[[-1.  0.  1.]\n",
      " [ 2.  3.  4.]\n",
      " [ 5.  6.  7.]]\n",
      "[[ 2.  4.  6.]\n",
      " [ 8. 10. 12.]\n",
      " [14. 16. 18.]]\n",
      "[[12. 12. 12.]\n",
      " [30. 30. 30.]\n",
      " [48. 48. 48.]]\n"
     ]
    }
   ],
   "source": [
    "print(B - C)\n",
    "print(B * C)\n",
    "print(B @ C)"
   ]
  },
  {
   "cell_type": "markdown",
   "id": "96030d53",
   "metadata": {},
   "source": [
    "### Do the following calculations on the matrix:\n",
    "* Exponentiate each number elementwise (use the np.exp function).\n",
    "\n",
    "* Calculate the minimum value in the whole matrix. \n",
    "* Calculcate the minimum value in each row. \n",
    "* Calculcate the minimum value in each column. \n",
    "\n",
    "\n",
    "* Find the index value for the minimum value in the whole matrix (hint: use np.argmin).\n",
    "* Find the index value for the minimum value in each row (hint: use np.argmin).\n",
    "\n",
    "\n",
    "* Calculate the sum for all elements.\n",
    "* Calculate the mean for each column. \n",
    "* Calculate the median for each column. "
   ]
  },
  {
   "cell_type": "code",
   "execution_count": 8,
   "id": "f8a9166b",
   "metadata": {},
   "outputs": [
    {
     "name": "stdout",
     "output_type": "stream",
     "text": [
      "[[1 2 3]\n",
      " [4 5 6]\n",
      " [7 8 9]]\n"
     ]
    }
   ],
   "source": [
    "B = np.arange(1, 10).reshape(3, 3)\n",
    "print(B)"
   ]
  },
  {
   "cell_type": "code",
   "execution_count": 9,
   "id": "f03f24f7",
   "metadata": {},
   "outputs": [
    {
     "name": "stdout",
     "output_type": "stream",
     "text": [
      "elementwie exponentiate =\n",
      " [[2.71828183e+00 7.38905610e+00 2.00855369e+01]\n",
      " [5.45981500e+01 1.48413159e+02 4.03428793e+02]\n",
      " [1.09663316e+03 2.98095799e+03 8.10308393e+03]]\n",
      "minimum value in matrix = 1\n",
      "minimum value for each row = [1 4 7]\n",
      "minimum value for each column = [1 2 3]\n",
      "index of minimum value = 0\n",
      "index of minimum value for each row = [0 0 0]\n",
      "sum of all elements = 45\n",
      "mean for each column = [4. 5. 6.]\n",
      "median for each column = [4. 5. 6.]\n"
     ]
    }
   ],
   "source": [
    "print(f'elementwie exponentiate =\\n {np.exp(B)}')\n",
    "print(f'minimum value in matrix = {np.min(B)}')\n",
    "print(f'minimum value for each row = {np.min(B, axis=1)}')\n",
    "print(f'minimum value for each column = {np.min(B, axis=0)}')\n",
    "print(f'index of minimum value = {np.argmin(B)}')\n",
    "print(f'index of minimum value for each row = {np.argmin(B, axis=1)}')\n",
    "print(f'sum of all elements = {B.sum()}')\n",
    "print(f'mean for each column = {B.mean(axis=0)}')\n",
    "print(f'median for each column = {np.median(B, axis=0)}')"
   ]
  },
  {
   "cell_type": "markdown",
   "id": "541eb7ba",
   "metadata": {},
   "source": [
    "### What does it mean when you provide fewer indices than axes when slicing? See example below."
   ]
  },
  {
   "cell_type": "code",
   "execution_count": 10,
   "id": "9c8abf56",
   "metadata": {},
   "outputs": [
    {
     "name": "stdout",
     "output_type": "stream",
     "text": [
      "[[ 1  2  3  4  5]\n",
      " [ 6  7  8  9 10]\n",
      " [11 12 13 14 15]]\n"
     ]
    }
   ],
   "source": [
    "print(A)"
   ]
  },
  {
   "cell_type": "code",
   "execution_count": 11,
   "id": "69415f7b",
   "metadata": {},
   "outputs": [
    {
     "data": {
      "text/plain": [
       "array([ 6,  7,  8,  9, 10])"
      ]
     },
     "execution_count": 11,
     "metadata": {},
     "output_type": "execute_result"
    }
   ],
   "source": [
    "A[1]"
   ]
  },
  {
   "cell_type": "markdown",
   "id": "6c53541b",
   "metadata": {},
   "source": [
    "**Answer:**"
   ]
  },
  {
   "cell_type": "code",
   "execution_count": 12,
   "id": "de01e120",
   "metadata": {},
   "outputs": [
    {
     "data": {
      "text/plain": [
       "array([ 6,  7,  8,  9, 10])"
      ]
     },
     "execution_count": 12,
     "metadata": {},
     "output_type": "execute_result"
    }
   ],
   "source": [
    "# De index som inte är med anses vara kompletta\n",
    "# I exemplet ovan är A[1] andra raden med alla kolumner vilket även kan skrivas som A[1, :]\n",
    "A[1, :]"
   ]
  },
  {
   "cell_type": "markdown",
   "id": "6652d0c9",
   "metadata": {},
   "source": [
    "### Iterating over multidimensional arrays is done with respect to the first axis, so in the example below we iterate trough the rows. If you would like to iterate through the array *elementwise*, how would you do that?"
   ]
  },
  {
   "cell_type": "code",
   "execution_count": 13,
   "id": "9459864f",
   "metadata": {},
   "outputs": [
    {
     "data": {
      "text/plain": [
       "array([[ 1,  2,  3,  4,  5],\n",
       "       [ 6,  7,  8,  9, 10],\n",
       "       [11, 12, 13, 14, 15]])"
      ]
     },
     "execution_count": 13,
     "metadata": {},
     "output_type": "execute_result"
    }
   ],
   "source": [
    "A"
   ]
  },
  {
   "cell_type": "code",
   "execution_count": 14,
   "id": "a671bb5a",
   "metadata": {},
   "outputs": [
    {
     "name": "stdout",
     "output_type": "stream",
     "text": [
      "[1 2 3 4 5]\n",
      "[ 6  7  8  9 10]\n",
      "[11 12 13 14 15]\n"
     ]
    }
   ],
   "source": [
    "for i in A:\n",
    "    print(i)"
   ]
  },
  {
   "cell_type": "code",
   "execution_count": 15,
   "id": "f4e443a0",
   "metadata": {},
   "outputs": [
    {
     "name": "stdout",
     "output_type": "stream",
     "text": [
      "1\n",
      "2\n",
      "3\n",
      "4\n",
      "5\n",
      "6\n",
      "7\n",
      "8\n",
      "9\n",
      "10\n",
      "11\n",
      "12\n",
      "13\n",
      "14\n",
      "15\n"
     ]
    }
   ],
   "source": [
    "for i in A.flat:\n",
    "    print(i)"
   ]
  },
  {
   "cell_type": "markdown",
   "id": "608a2583",
   "metadata": {},
   "source": [
    "### Explain what the code below does. More specifically, b has three axes - what does this mean? "
   ]
  },
  {
   "cell_type": "code",
   "execution_count": 16,
   "id": "f8f9b26f",
   "metadata": {},
   "outputs": [
    {
     "name": "stdout",
     "output_type": "stream",
     "text": [
      "[ 0  1  2  3  4  5  6  7  8  9 10 11 12 13 14 15 16 17 18 19 20 21 22 23\n",
      " 24 25 26 27 28 29]\n",
      "\n",
      "[[[ 0  1  2  3  4]\n",
      "  [ 5  6  7  8  9]\n",
      "  [10 11 12 13 14]]\n",
      "\n",
      " [[15 16 17 18 19]\n",
      "  [20 21 22 23 24]\n",
      "  [25 26 27 28 29]]]\n"
     ]
    }
   ],
   "source": [
    "a = np.arange(30)\n",
    "b = a.reshape((2, 3, -1))\n",
    "print(a)\n",
    "print()\n",
    "\n",
    "print(b)"
   ]
  },
  {
   "cell_type": "code",
   "execution_count": 17,
   "id": "863a45df",
   "metadata": {},
   "outputs": [],
   "source": [
    "# a skapas och blir en array med elementen 0 till 29\n",
    "# b skapas från a där den skapas till en multidimensionell array med 3 axlar där varje siffra anger hur måna element varje axel har (2,3,5). \n",
    "# -1 blir 5 som är resten som finns kvar efter att 2 och 3 har använts.\n",
    "# b är en 3 dimensionell matris där 3 värden utgör en punkt i ett 3 dimensionellt plan med 3 axlar som används bland annat i linjär algebra"
   ]
  },
  {
   "cell_type": "code",
   "execution_count": null,
   "id": "eed38bbb-dd20-4d23-837f-679aa3d3a067",
   "metadata": {},
   "outputs": [],
   "source": []
  },
  {
   "cell_type": "markdown",
   "id": "421c9607-819a-401d-949a-97424436fe29",
   "metadata": {},
   "source": [
    "# For the exercises below, read the document *\"matematik_yh_antonio_vektorer_matriser_utdrag\"*\n",
    "# Solutions to the exercises and recorded videos can be found here: https://github.com/AntonioPrgomet/matematik_foer_yh\n",
    "\n",
    "# If you find the exercises below very hard, do not worry. Try your best, that will be enough. "
   ]
  },
  {
   "cell_type": "markdown",
   "id": "ab5933d5",
   "metadata": {},
   "source": [
    "### Broadcasting\n",
    "**Read the following link about broadcasting: https://numpy.org/doc/stable/user/basics.broadcasting.html#basics-broadcasting**"
   ]
  },
  {
   "cell_type": "markdown",
   "id": "039805ba",
   "metadata": {},
   "source": [
    "# Remark on Broadcasting when doing Linear Algebra calculations in Python. "
   ]
  },
  {
   "cell_type": "markdown",
   "id": "c4bcc147",
   "metadata": {},
   "source": [
    "### From the mathematical rules of matrix addition, the operation below (m1 + m2) does not make sense. The reason is that matrix addition requires two matrices of the same size. In Python however, it works due to broadcasting rules in NumPy. So you must be careful when doing Linear Algebra calculations in Python since they do not follow the \"mathematical rules\". This can however easily be handled by doing some simple programming, for example validating that two matrices have the same shape is easy if you for instance want to add two matrices. "
   ]
  },
  {
   "cell_type": "code",
   "execution_count": 18,
   "id": "1fd46778",
   "metadata": {},
   "outputs": [
    {
     "name": "stdout",
     "output_type": "stream",
     "text": [
      "[[2 3]\n",
      " [4 5]]\n"
     ]
    }
   ],
   "source": [
    "m1 = np.array([[1, 2], [3, 4]])\n",
    "m2 = np.array([1, 1])\n",
    "print(m1 + m2)"
   ]
  },
  {
   "cell_type": "markdown",
   "id": "047d6576",
   "metadata": {},
   "source": [
    "### The example below would also not be allowed if following the \"mathematical rules\" in Linear Algebra. But it works due to broadcasting in NumPy. "
   ]
  },
  {
   "cell_type": "code",
   "execution_count": 19,
   "id": "5e6ef2e4",
   "metadata": {},
   "outputs": [
    {
     "name": "stdout",
     "output_type": "stream",
     "text": [
      "[2 3 4]\n"
     ]
    }
   ],
   "source": [
    "v1 = np.array([1, 2, 3])\n",
    "print(v1 + 1)"
   ]
  },
  {
   "cell_type": "code",
   "execution_count": 20,
   "id": "e2cbae26",
   "metadata": {},
   "outputs": [
    {
     "name": "stdout",
     "output_type": "stream",
     "text": [
      "[[1 2]\n",
      " [3 4]]\n",
      "[2 2]\n"
     ]
    }
   ],
   "source": [
    "A = np.arange(1, 5).reshape(2,2)\n",
    "print(A)\n",
    "\n",
    "b = np.array([2, 2])\n",
    "print(b)"
   ]
  },
  {
   "cell_type": "markdown",
   "id": "722fd5cd",
   "metadata": {},
   "source": [
    "# Vector- and matrix algebra Exercises"
   ]
  },
  {
   "cell_type": "markdown",
   "id": "b63a3081-d976-4d9f-bfd0-a63917e79f7d",
   "metadata": {},
   "source": [
    "**Now you are going to create a function that can be reused every time you add or multiply matrices. The function is created so that we do the addition and multiplication according to the rules of vector- and matrix algebra.**\n",
    "\n",
    "**Create a function \"add_mult_matrices\" that takes two matrices as input arguments (validate that the input are of the type numpy.ndarray by using the isinstance function), a third argument that is either 'add' or 'multiply' that specifies if you want to add or multiply the matrices (validate that the third argument is either 'add' or 'multiply'). When doing matrix addition, validate that the matrices have the same size. When doing matrix multiplication, validate that the sizes conform (i.e. number of columns in the first matrix is equal to the number of rows in the second matrix).**"
   ]
  },
  {
   "cell_type": "code",
   "execution_count": 66,
   "id": "3506f977-ac0a-473f-85bc-eec9f35dc498",
   "metadata": {},
   "outputs": [],
   "source": [
    "def add_mult_matrices(matrix_1, matrix_2, operation):\n",
    "    if isinstance(matrix_1, np.ndarray) == False or isinstance(matrix_2, np.ndarray) == False:\n",
    "        return 'matrix arguments need to be of type ndarray.'\n",
    "        \n",
    "    if matrix_1.ndim != 2 or matrix_2.ndim != 2:\n",
    "        return 'too many axes on ndarray'\n",
    "        \n",
    "    if operation == 'add':\n",
    "        if matrix_1.shape == matrix_2.shape:\n",
    "            return matrix_1 + matrix_2\n",
    "        else:\n",
    "            return 'not same size.'\n",
    "    elif operation == 'multiply':\n",
    "        m1_rows, m1_cols = matrix_1.shape\n",
    "        m2_rows, m2_cols = matrix_2.shape\n",
    "\n",
    "        print(f'{m1_rows},{m1_cols},{m2_rows},{m2_cols}')\n",
    "        if m1_cols == m2_rows:\n",
    "            return matrix_1 @ matrix_2\n",
    "        else:\n",
    "            return 'sizes must conform.'\n",
    "    else:\n",
    "        return 'operation must be add or multiply.'\n"
   ]
  },
  {
   "cell_type": "code",
   "execution_count": 67,
   "id": "0ff5dabb-80a8-4480-9567-2ba778f1dd98",
   "metadata": {},
   "outputs": [
    {
     "name": "stdout",
     "output_type": "stream",
     "text": [
      "\u001b[32m.\u001b[0m\u001b[32m                                                                                            [100%]\u001b[0m\n",
      "\u001b[32m\u001b[32m\u001b[1m1 passed\u001b[0m\u001b[32m in 0.01s\u001b[0m\u001b[0m\n"
     ]
    },
    {
     "data": {
      "text/plain": [
       "<ExitCode.OK: 0>"
      ]
     },
     "execution_count": 67,
     "metadata": {},
     "output_type": "execute_result"
    }
   ],
   "source": [
    "import pytest\n",
    "import ipytest\n",
    "ipytest.autoconfig()\n",
    "\n",
    "def test_add_mult_matrices():\n",
    "    # Add matrices (2, 2)\n",
    "    assert (add_mult_matrices(np.array([[1,2],[3,4]]), np.array([[1,2],[3,4]]), 'add') == np.array([[2,4],[6,8]])).all()\n",
    "    # Add matrices (2, 3)\n",
    "    assert (add_mult_matrices(np.array([[1,2,3],[4,5,6]]), np.array([[1,2,3],[4,5,6]]), 'add') == np.array([[2,4,6],[8,10,12]])).all()\n",
    "    # Add matrices with different shape\n",
    "    assert add_mult_matrices(np.array([[1,2],[3,4]]), np.array([[1,2]]), 'add') == 'not same size.'\n",
    "    # Add matrices when first argument is not a matrix\n",
    "    assert add_mult_matrices('dummy', np.array([[1,2],[3,4]]), 'add') == 'matrix arguments need to be of type ndarray.'\n",
    "    # Add matrices when second argument is not a matrix\n",
    "    assert add_mult_matrices(np.array([[1,2],[3,4]]), True, 'add') == 'matrix arguments need to be of type ndarray.'\n",
    "    # matrices operation with wrong operation\n",
    "    assert add_mult_matrices(np.array([[1,2],[3,4]]), np.array([[1,2],[3,4]]), 'addd') == 'operation must be add or multiply.'\n",
    "    # Multiply matrices (2, 2)\n",
    "    assert (add_mult_matrices(np.array([[1,2],[3,4]]), np.array([[1,2],[3,4]]), 'multiply') == np.array([[7,10],[15,22]])).all()\n",
    "    # Multiply matrices (2, 3) @ (3, 2) => (2, 2)\n",
    "    assert (add_mult_matrices(np.array([[1,2,3],[4,5,6]]), np.array([[1,2,],[3,4],[5,6]]), 'multiply') == np.array([[22,28],[49,64]])).all()\n",
    "    # Multiply matrices (2,3) @ (2,2) sizes does not conform \n",
    "    assert add_mult_matrices(np.array([[1,2,3],[4,5,6]]), np.array([[1,2],[3,4]]), 'multiply') == 'sizes must conform.'\n",
    "    # don't allow an ndarray that has ndim != 2 on argument 1\n",
    "    assert add_mult_matrices(np.array([[[1,2],[3,4]]]), np.array([[1,2],[3,4]]), 'multiply') == 'too many axes on ndarray'\n",
    "    # don't allow an ndarray that has ndim != 2 on argument 2\n",
    "    assert add_mult_matrices(np.array([[1,2],[3,4]]), np.array([[[1,2],[3,4]]]), 'multiply') == 'too many axes on ndarray'\n",
    "ipytest.run()"
   ]
  },
  {
   "cell_type": "markdown",
   "id": "8dad82d0-2359-4dff-8f5b-a57d3e34103c",
   "metadata": {},
   "source": [
    "### Solve all the exercises in chapter 10.1 in the book \"Matematik för yrkeshögskolan\". "
   ]
  },
  {
   "cell_type": "code",
   "execution_count": 117,
   "id": "2a455436-c3df-4395-88dd-43733ed18232",
   "metadata": {},
   "outputs": [
    {
     "name": "stdout",
     "output_type": "stream",
     "text": [
      "excersises 10.1.1\n",
      "a = (1, 2)\n",
      "b = [[20 15]]\n",
      "c = [[12  9]]\n",
      "d = [[32 24]]\n",
      "e = [[32 24]]\n",
      "f = [[12  9]]\n",
      "g = [[4]\n",
      " [3]]\n",
      "g = (2, 1)\n",
      "i = 5.0\n",
      "\n",
      "excersises 10.1.2\n",
      "a = (4, 1)\n",
      "b = [[ 6]\n",
      " [14]\n",
      " [ 0]\n",
      " [22]]\n",
      "c = [[21]\n",
      " [49]\n",
      " [ 0]\n",
      " [77]]\n",
      "d = [[ 6]\n",
      " [14]\n",
      " [ 0]\n",
      " [22]]\n",
      "e = (1, 4)\n",
      "f = 13.379088160259652\n",
      "\n",
      "excersises 10.1.3\n",
      "a = 7.14142842854285\n",
      "b = 4.47213595499958\n"
     ]
    }
   ],
   "source": [
    "print('excersises 10.1.1')\n",
    "x = np.array([[4,3]])\n",
    "print(f'a = {x.shape}')\n",
    "print(f'b = {5*x}')\n",
    "print(f'c = {3*x}')\n",
    "print(f'd = {5*x + 3*x}')\n",
    "print(f'e = {8*x}')\n",
    "print(f'f = {4*x - x}')\n",
    "x_t = x.T\n",
    "print(f'g = {x_t}')\n",
    "print(f'g = {x_t.shape}')\n",
    "# h\n",
    "#(1,2) + (2,1) is not defined\n",
    "print(f'i = {np.sqrt(np.sum(x**2))}')\n",
    "\n",
    "print('\\nexcersises 10.1.2')\n",
    "v = np.array([[3],[7],[0],[11]])\n",
    "print(f'a = {v.shape}')\n",
    "print(f'b = {2*v}')\n",
    "print(f'c = {5*v + 2*v}')\n",
    "print(f'd = {4*v - 2*v}')\n",
    "print(f'e = {v.T.shape}')\n",
    "print(f'f = {np.sqrt(np.sum(v.T**2))}')\n",
    "\n",
    "print('\\nexcersises 10.1.3')\n",
    "v1 = np.array([[4,3,1,5]])\n",
    "v2 = np.array([[2,3,1,1]])\n",
    "print(f'a = {np.sqrt(np.sum(v1**2))}')\n",
    "print(f'b = {np.sqrt(np.sum((v1 - v2)**2))}')"
   ]
  },
  {
   "cell_type": "markdown",
   "id": "75c98984-1f88-4df1-b850-d2466de444a5",
   "metadata": {},
   "source": [
    "### Solve all the exercises, except 10.2.4, in chapter 10.2 in the book \"Matematik för yrkeshögskolan\". "
   ]
  },
  {
   "cell_type": "code",
   "execution_count": 121,
   "id": "65371610-16e1-48b2-b7fb-65e49002608a",
   "metadata": {},
   "outputs": [
    {
     "name": "stdout",
     "output_type": "stream",
     "text": [
      "\n",
      "excersises 10.2.1\n",
      "a = [[ 4  2 -2]\n",
      " [ 2 -2  2]]\n",
      "b = [[ 0 -4  3]\n",
      " [ 0 -2 -4]]\n",
      "c = not defined\n",
      "d = [[3 2]\n",
      " [2 3]]\n",
      "e = [[ 9 12]\n",
      " [12  9]]\n",
      "f = [[-4 -4]\n",
      " [-4 -4]]\n",
      "g = not defined\n",
      "h = not defined\n",
      "i = [[11 10]\n",
      " [10 11]]\n",
      "j = [[  8 -10  -3]\n",
      " [ 10  -8   0]]\n",
      "k = [[1 2]\n",
      " [2 1]]\n",
      "l = [[5 2]\n",
      " [7 4]]\n",
      "\n",
      "excersise 10.2.2\n",
      "AAT = [[29 26]\n",
      " [26 42]]\n",
      "\n",
      "excersise 10.2.3\n",
      "AB = [[ 4  7]\n",
      " [ 8 14]]\n",
      "AC = [[ 4  7]\n",
      " [ 8 14]]\n",
      "AB = AC is True\n",
      "B ̸= C is True\n"
     ]
    }
   ],
   "source": [
    "print('\\nexcersises 10.2.1')\n",
    "A = np.array([[2,1,-1],[1,-1,1]])\n",
    "B = np.array([[4,-2,1],[2,-4,-2]])\n",
    "C = np.array([[1,2],[2,1]])\n",
    "D = np.array([[3,4],[4,3]])\n",
    "E = np.array([[1],[2]])\n",
    "I = np.array([[1,0],[0,1]])\n",
    "print(f'a = {2*A}')\n",
    "print(f'b = {B - (2*A)}')\n",
    "print('c = not defined')\n",
    "print(f'd = {(2*D) - (3*C)}')\n",
    "print(f'e = {D.T + (2*D)}')\n",
    "print(f'f = {(2*C.T) - (2*D.T)}')\n",
    "print('g = not defined')\n",
    "print('h = not defined')\n",
    "print(f'i = {C@D}')\n",
    "print(f'j = {C@B}')\n",
    "print(f'k = {C@I}')\n",
    "print(f'l = {A@B.T}')\n",
    "\n",
    "print('\\nexcersise 10.2.2')\n",
    "A = np.array([[2,3,4],[5,4,1]])\n",
    "print(f'AAT = {A@A.T}')\n",
    "\n",
    "print('\\nexcersise 10.2.3')\n",
    "A = np.array([[1,2],[2,4]])\n",
    "B = np.array([[2,1],[1,3]])\n",
    "C = np.array([[4,3],[0,2]])\n",
    "\n",
    "#verifiera AB = AC men att B ̸= C.\n",
    "print(f'AB = {A@B}')\n",
    "print(f'AC = {A@C}')\n",
    "print(f'AB = AC is {np.array_equal(A@B, A@C)}')\n",
    "print(f'B ̸= C is {np.array_equal(B, C) == False}')"
   ]
  },
  {
   "cell_type": "markdown",
   "id": "6a4a524f",
   "metadata": {},
   "source": [
    "### Copies and Views\n",
    "Read the following link: https://numpy.org/doc/stable/user/basics.copies.html"
   ]
  },
  {
   "cell_type": "markdown",
   "id": "6cbbeaf7",
   "metadata": {},
   "source": [
    "**Basic indexing creates a view, How can you check if v1 and v2 is a view or copy? If you change the last element in v2 to 123, will the last element in v1 be changed? Why?**"
   ]
  },
  {
   "cell_type": "code",
   "execution_count": 127,
   "id": "5b9ef4df",
   "metadata": {},
   "outputs": [
    {
     "name": "stdout",
     "output_type": "stream",
     "text": [
      "[0 1 2 3]\n",
      "[2 3]\n",
      "is v1 a copy = True\n",
      "is v2 a copy = False\n",
      "[  0   1   2 123]\n"
     ]
    }
   ],
   "source": [
    "v1 = np.arange(4)\n",
    "v2 = v1[-2:]\n",
    "print(v1)\n",
    "print(v2)\n",
    "\n",
    "print(f'is v1 a copy = {v1.base is None}')\n",
    "print(f'is v2 a copy = {v2.base is None}')\n",
    "\n",
    "v2[-1] = 123\n",
    "print(v1)\n",
    "# v1 will also have 123 on the last index because v2 is a view"
   ]
  },
  {
   "cell_type": "code",
   "execution_count": 128,
   "id": "d2440489",
   "metadata": {},
   "outputs": [
    {
     "name": "stdout",
     "output_type": "stream",
     "text": [
      "None\n",
      "[  0   1   2 123]\n"
     ]
    }
   ],
   "source": [
    "# The base attribute of a view returns the original array while it returns None for a copy.\n",
    "print(v1.base)\n",
    "print(v2.base)"
   ]
  },
  {
   "cell_type": "code",
   "execution_count": 129,
   "id": "c8752807",
   "metadata": {},
   "outputs": [
    {
     "name": "stdout",
     "output_type": "stream",
     "text": [
      "[  0   1   2 123]\n",
      "[  2 123]\n"
     ]
    }
   ],
   "source": [
    "# The last element in v1 will be changed aswell since v2 is a view, meaning they share the same data buffer.\n",
    "v2[-1] = 123\n",
    "print(v1)\n",
    "print(v2)"
   ]
  },
  {
   "cell_type": "code",
   "execution_count": null,
   "id": "3dd68221",
   "metadata": {},
   "outputs": [],
   "source": []
  }
 ],
 "metadata": {
  "kernelspec": {
   "display_name": "Python 3 (ipykernel)",
   "language": "python",
   "name": "python3"
  },
  "language_info": {
   "codemirror_mode": {
    "name": "ipython",
    "version": 3
   },
   "file_extension": ".py",
   "mimetype": "text/x-python",
   "name": "python",
   "nbconvert_exporter": "python",
   "pygments_lexer": "ipython3",
   "version": "3.12.7"
  }
 },
 "nbformat": 4,
 "nbformat_minor": 5
}
